{
 "cells": [
  {
   "cell_type": "code",
   "execution_count": 1,
   "metadata": {},
   "outputs": [],
   "source": [
    "import math\n",
    "import matplotlib.pyplot as plt"
   ]
  },
  {
   "cell_type": "code",
   "execution_count": 2,
   "metadata": {
    "scrolled": true
   },
   "outputs": [
    {
     "name": "stdout",
     "output_type": "stream",
     "text": [
      "15\n",
      "325\n",
      "The number is not a natural number.\n",
      "190\n",
      "The number is not a natural number.\n"
     ]
    }
   ],
   "source": [
    "#1. Calculate the sum of first N natural numbers. Use of analytical formulae not allowed.\n",
    "def SumNat(n):\n",
    "    if n > 0 and n%1==0:#check for Natural number\n",
    "        j=1\n",
    "        k=0\n",
    "        while j <= n:\n",
    "            k=k+j\n",
    "            j=j+1\n",
    "        return k\n",
    "    else:\n",
    "        return \"The number is not a natural number.\"\n",
    "\n",
    "print(SumNat(5)) ;\n",
    "print(SumNat(25)) ;\n",
    "print(SumNat(26.1)) ;\n",
    "print(SumNat(19)) ;\n",
    "print(SumNat(-4)) ;"
   ]
  },
  {
   "cell_type": "code",
   "execution_count": 3,
   "metadata": {},
   "outputs": [
    {
     "name": "stdout",
     "output_type": "stream",
     "text": [
      "25\n",
      "The number is not a natural number.\n",
      "The number is not a natural number.\n"
     ]
    }
   ],
   "source": [
    "#Calculate the sum of first N odd numbers. Use of analytical formulae not allowed.\n",
    "def SumOdd(n):\n",
    "    if n>0 and n%1==0:#check for Natural number\n",
    "        j=1\n",
    "        k=0\n",
    "        for _ in range(n):\n",
    "            k=k+j\n",
    "            j=j+2\n",
    "        return k\n",
    "    else:\n",
    "        return \"The number is not a natural number.\"\n",
    "print(SumOdd(5))\n",
    "print(SumOdd(45.9))\n",
    "print(SumOdd(-8))          "
   ]
  },
  {
   "cell_type": "code",
   "execution_count": 4,
   "metadata": {},
   "outputs": [
    {
     "name": "stdout",
     "output_type": "stream",
     "text": [
      "13.0\n",
      "The number of terms is not a natural number.\n",
      "The number of terms is not a natural number.\n"
     ]
    }
   ],
   "source": [
    "#2. Calculate the sum of N terms of an AP series for common difference 1.5. Use of analytical formulae not allowed.\n",
    "def AP(a,n):\n",
    "    if n>0 and n%1==0:#check for Natural number\n",
    "        j=0\n",
    "        k=a\n",
    "        for _ in range(n):\n",
    "            j=j+k\n",
    "            k=k+1.5\n",
    "        return j\n",
    "    else:\n",
    "        return \"The number of terms is not a natural number.\"\n",
    "print(AP(1,4))\n",
    "print(AP(2,1.5))\n",
    "print(AP(1,-2))"
   ]
  },
  {
   "cell_type": "code",
   "execution_count": 5,
   "metadata": {},
   "outputs": [
    {
     "name": "stdout",
     "output_type": "stream",
     "text": [
      "1.875\n",
      "The number of terms is not a natural number.\n",
      "The number of terms is not a natural number.\n"
     ]
    }
   ],
   "source": [
    "#Calculate the sum of N terms of a GP series for common ratio 0.5. Use of analytical formulae not allowed.\n",
    "def GP(a,n):\n",
    "    if n>0 and n%1==0:#check for Natural number\n",
    "        j=0\n",
    "        k=a\n",
    "        for _ in range(n):\n",
    "            j=j+k\n",
    "            k=k*0.5\n",
    "        return j\n",
    "    else:\n",
    "        return \"The number of terms is not a natural number.\"\n",
    "print(GP(1,4))\n",
    "print(GP(2,1.5))\n",
    "print(GP(1,-2))"
   ]
  },
  {
   "cell_type": "code",
   "execution_count": 6,
   "metadata": {},
   "outputs": [
    {
     "name": "stdout",
     "output_type": "stream",
     "text": [
      "1.2645604395604395\n",
      "The number of terms is not a natural number.\n",
      "The number of terms is not a natural number.\n"
     ]
    }
   ],
   "source": [
    "#Calculate the sum of N terms of a GP series for common ratio 0.5. Use of analytical formulae not allowed.\n",
    "def HP(a,n):\n",
    "    if n>0 and n%1==0:#check for Natural number\n",
    "        k=1/a\n",
    "        m=0\n",
    "        for _ in range(n):\n",
    "            j=1/k          #inverting k\n",
    "            m=m+j          #adding terms of HP\n",
    "            k=k+1.5        #implementing common difference\n",
    "        return m\n",
    "    else:\n",
    "        return \"The number of terms is not a natural number.\"\n",
    "print(HP(1/2,5))\n",
    "print(HP(2,1.5))\n",
    "print(HP(1,-2))"
   ]
  },
  {
   "cell_type": "code",
   "execution_count": 7,
   "metadata": {},
   "outputs": [
    {
     "name": "stdout",
     "output_type": "stream",
     "text": [
      "The number 5.6 is not a natural number.\n",
      "120\n",
      "The number -5 is not a natural number.\n",
      "1\n"
     ]
    }
   ],
   "source": [
    "#3. Calculate factorial of N.\n",
    "def FACTORIAL(n):\n",
    "    if n >= 0 and n%1==0:#check for Natural number\n",
    "        if n==0:\n",
    "            return 1     #check for 0!\n",
    "        else:\n",
    "            j=1\n",
    "            k=1\n",
    "            while j <= n:\n",
    "                k=k*j\n",
    "                j=j+1\n",
    "            return k\n",
    "    else:\n",
    "        return(\"The number \"+str(n)+\" is not a natural number.\")\n",
    "print(FACTORIAL(5.6))\n",
    "print(FACTORIAL(5))\n",
    "print(FACTORIAL(-5))\n",
    "print(FACTORIAL(0))"
   ]
  },
  {
   "cell_type": "code",
   "execution_count": 8,
   "metadata": {},
   "outputs": [
    {
     "name": "stdout",
     "output_type": "stream",
     "text": [
      "0.9129494905090468\n"
     ]
    }
   ],
   "source": [
    "#4. Calculate sin(x) accurate up to 4 place in decimal. \n",
    "def SINE(x,e):        \n",
    "    j=0\n",
    "    p=0\n",
    "    while p <= e:\n",
    "        k=(-1)**p*x**(2*p+1)/FACTORIAL(2*p+1) \n",
    "        p=p+1\n",
    "        j=j+k\n",
    "    return j\n",
    "print(SINE(20,30))        #we are taking upto 30 iteration"
   ]
  },
  {
   "cell_type": "code",
   "execution_count": 9,
   "metadata": {},
   "outputs": [
    {
     "name": "stdout",
     "output_type": "stream",
     "text": [
      "4.118836857902597e-05\n",
      "0.9129040623590486\n",
      "0.9129452507276277\n"
     ]
    },
    {
     "data": {
      "image/png": "[encoded data removed]",
      "text/plain": [
       "<Figure size 432x288 with 1 Axes>"
      ]
     },
     "metadata": {
      "needs_background": "light"
     },
     "output_type": "display_data"
    }
   ],
   "source": [
    "#Plot modulus of error versus iteration numbers.\n",
    "tlimit=10**(-5)                                  #setting tollerance\n",
    "u=[ ]\n",
    "v=[ ]\n",
    "def ERRSINE(x):\n",
    "    r=0\n",
    "    while abs(SINE(x,r)-math.sin(x))>tlimit:\n",
    "        a=abs(SINE(x,r)-math.sin(x))\n",
    "        u.append(a)\n",
    "        v.append(r)\n",
    "        r=r+1\n",
    "    return a\n",
    "print(ERRSINE(20))\n",
    "print(SINE(20,v[-1]))  #for verification(accurate upto 4 digit)\n",
    "print(math.sin(20))     #for verification\n",
    "plt.plot(v,u,\"o-\")\n",
    "plt.xlabel('Iteration number')\n",
    "plt.ylabel('Modulus of error')\n",
    "plt.show()"
   ]
  },
  {
   "cell_type": "code",
   "execution_count": 10,
   "metadata": {},
   "outputs": [
    {
     "data": {
      "text/plain": [
       "3.4315815027040065e-05"
      ]
     },
     "execution_count": 10,
     "metadata": {},
     "output_type": "execute_result"
    }
   ],
   "source": [
    "#Calculate exp(-x) accurate up to 4 place in decimal.\n",
    "def EXP(x,e):\n",
    "    j=0\n",
    "    p=0\n",
    "    while p <= e:\n",
    "        k= (-x)**p/FACTORIAL(p)\n",
    "        p=p+1\n",
    "        j=j+k\n",
    "    return j\n",
    "EXP(20,60)     #we are taking upto 60 iteration"
   ]
  },
  {
   "cell_type": "code",
   "execution_count": 11,
   "metadata": {},
   "outputs": [
    {
     "name": "stdout",
     "output_type": "stream",
     "text": [
      "1.1114396124790122e-05\n",
      "-1.1112334971167684e-05\n",
      "2.061153622438558e-09\n"
     ]
    },
    {
     "data": {
      "image/png": "[encoded data removed]",
      "text/plain": [
       "<Figure size 432x288 with 1 Axes>"
      ]
     },
     "metadata": {
      "needs_background": "light"
     },
     "output_type": "display_data"
    }
   ],
   "source": [
    "#Plot modulus of error versus iteration numbers.\n",
    "tlimit=10**(-5)                                 #setting tollerance limit\n",
    "w=[ ]\n",
    "z=[ ]\n",
    "def ERREXP(x):\n",
    "    r=0\n",
    "    while abs(EXP(x,r)-math.exp(-x))>tlimit:\n",
    "        a=abs(EXP(x,r)-math.exp(-x))\n",
    "        w.append(a)\n",
    "        z.append(r)\n",
    "        r=r+1\n",
    "    return a\n",
    "print(ERREXP(20)) \n",
    "print(EXP(20,z[-1]))    #for verification(accurate upto 4 digit)\n",
    "print(math.exp(-20))   #for verification \n",
    "plt.plot(z,w,\"o-\")\n",
    "plt.xlabel('Iteration number')\n",
    "plt.ylabel('Modulus of error')\n",
    "plt.show()"
   ]
  },
  {
   "cell_type": "code",
   "execution_count": null,
   "metadata": {},
   "outputs": [],
   "source": []
  }
 ],
 "metadata": {
  "kernelspec": {
   "display_name": "Python 3",
   "language": "python",
   "name": "python3"
  },
  "language_info": {
   "codemirror_mode": {
    "name": "ipython",
    "version": 3
   },
   "file_extension": ".py",
   "mimetype": "text/x-python",
   "name": "python",
   "nbconvert_exporter": "python",
   "pygments_lexer": "ipython3",
   "version": "3.7.6"
  }
 },
 "nbformat": 4,
 "nbformat_minor": 4
}
